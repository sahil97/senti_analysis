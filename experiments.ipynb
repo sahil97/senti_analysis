{
 "cells": [
  {
   "cell_type": "code",
   "execution_count": 13,
   "metadata": {},
   "outputs": [],
   "source": [
    "import tweepy\n",
    "import pandas as pd\n",
    "import numpy as np"
   ]
  },
  {
   "cell_type": "code",
   "execution_count": 2,
   "metadata": {},
   "outputs": [],
   "source": [
    "ACCESS_TOKEN = ''\n",
    "ACCESS_SECRET = ''\n",
    "CONSUMER_KEY = ''\n",
    "CONSUMER_SECRET = ''"
   ]
  },
  {
   "cell_type": "code",
   "execution_count": 3,
   "metadata": {},
   "outputs": [],
   "source": [
    "auth = tweepy.OAuthHandler(CONSUMER_KEY, CONSUMER_SECRET)\n",
    "auth.set_access_token(ACCESS_TOKEN, ACCESS_SECRET)"
   ]
  },
  {
   "cell_type": "code",
   "execution_count": 5,
   "metadata": {},
   "outputs": [],
   "source": [
    "api = tweepy.API(auth, wait_on_rate_limit=True, wait_on_rate_limit_notify=True, compression=True)"
   ]
  },
  {
   "cell_type": "code",
   "execution_count": 24,
   "metadata": {},
   "outputs": [
    {
     "name": "stdout",
     "output_type": "stream",
     "text": [
      "189\n",
      "189\n"
     ]
    }
   ],
   "source": [
    "time = []\n",
    "tweets = []\n",
    "for tweet in tweepy.Cursor(api.search,q=\"#Zomato\",count=200,lang=\"en\",since=\"2019-04-03\").items(200):\n",
    "    if(len(tweets)>0 and tweet.text == tweets[-1]):\n",
    "        continue\n",
    "    time.append(tweet.created_at)\n",
    "    tweets.append(tweet.text)\n",
    "print(len(time))\n",
    "print(len(tweets))"
   ]
  },
  {
   "cell_type": "code",
   "execution_count": 14,
   "metadata": {},
   "outputs": [],
   "source": [
    "df = pd.DataFrame(columns=['time','tweet'])"
   ]
  },
  {
   "cell_type": "code",
   "execution_count": 25,
   "metadata": {},
   "outputs": [
    {
     "data": {
      "text/plain": [
       "['RT @NikitaVasudeva: Incomplete order received.. the ones received were cold! Neither replacement of order nor refund of amount.\\nWhat a cust…',\n",
       " 'Our website : https://t.co/2C2AcVglF0\\nEmail : sales@securaex.com\\n\\n #purple #alibaba #pepperfry #tatacliq #jet… https://t.co/4mfCuQabBt',\n",
       " \"#zomato @ZomatoIN @zomatocare \\n\\nOrder I'd: 15777383291.\\nI ordered chicken fried rice and found bone pieces in it. R… https://t.co/E8ZeEaLz81\",\n",
       " 'Hey useless @ZomatolN   You have cancelled 6 times of my orders one after another. That is 2 hours your have wasted… https://t.co/vaGL18PD6T']"
      ]
     },
     "execution_count": 25,
     "metadata": {},
     "output_type": "execute_result"
    }
   ],
   "source": [
    "tweets[1:5]"
   ]
  },
  {
   "cell_type": "code",
   "execution_count": 26,
   "metadata": {},
   "outputs": [],
   "source": [
    "df['time'] = time"
   ]
  },
  {
   "cell_type": "code",
   "execution_count": 27,
   "metadata": {},
   "outputs": [],
   "source": [
    "df['tweet'] = tweets"
   ]
  },
  {
   "cell_type": "code",
   "execution_count": 31,
   "metadata": {},
   "outputs": [
    {
     "data": {
      "text/html": [
       "<div>\n",
       "<style scoped>\n",
       "    .dataframe tbody tr th:only-of-type {\n",
       "        vertical-align: middle;\n",
       "    }\n",
       "\n",
       "    .dataframe tbody tr th {\n",
       "        vertical-align: top;\n",
       "    }\n",
       "\n",
       "    .dataframe thead th {\n",
       "        text-align: right;\n",
       "    }\n",
       "</style>\n",
       "<table border=\"1\" class=\"dataframe\">\n",
       "  <thead>\n",
       "    <tr style=\"text-align: right;\">\n",
       "      <th></th>\n",
       "      <th>time</th>\n",
       "      <th>tweet</th>\n",
       "      <th>length</th>\n",
       "    </tr>\n",
       "  </thead>\n",
       "  <tbody>\n",
       "    <tr>\n",
       "      <th>0</th>\n",
       "      <td>2019-04-29 14:02:50</td>\n",
       "      <td>Hey @ZomatoIN and @swiggy_in please provide yo...</td>\n",
       "      <td>136</td>\n",
       "    </tr>\n",
       "    <tr>\n",
       "      <th>1</th>\n",
       "      <td>2019-04-29 13:36:50</td>\n",
       "      <td>RT @NikitaVasudeva: Incomplete order received....</td>\n",
       "      <td>140</td>\n",
       "    </tr>\n",
       "    <tr>\n",
       "      <th>2</th>\n",
       "      <td>2019-04-29 12:43:42</td>\n",
       "      <td>Our website : https://t.co/2C2AcVglF0\\nEmail :...</td>\n",
       "      <td>134</td>\n",
       "    </tr>\n",
       "    <tr>\n",
       "      <th>3</th>\n",
       "      <td>2019-04-29 12:25:05</td>\n",
       "      <td>#zomato @ZomatoIN @zomatocare \\n\\nOrder I'd: 1...</td>\n",
       "      <td>140</td>\n",
       "    </tr>\n",
       "    <tr>\n",
       "      <th>4</th>\n",
       "      <td>2019-04-29 12:19:28</td>\n",
       "      <td>Hey useless @ZomatolN   You have cancelled 6 t...</td>\n",
       "      <td>140</td>\n",
       "    </tr>\n",
       "  </tbody>\n",
       "</table>\n",
       "</div>"
      ],
      "text/plain": [
       "                 time                                              tweet  \\\n",
       "0 2019-04-29 14:02:50  Hey @ZomatoIN and @swiggy_in please provide yo...   \n",
       "1 2019-04-29 13:36:50  RT @NikitaVasudeva: Incomplete order received....   \n",
       "2 2019-04-29 12:43:42  Our website : https://t.co/2C2AcVglF0\\nEmail :...   \n",
       "3 2019-04-29 12:25:05  #zomato @ZomatoIN @zomatocare \\n\\nOrder I'd: 1...   \n",
       "4 2019-04-29 12:19:28  Hey useless @ZomatolN   You have cancelled 6 t...   \n",
       "\n",
       "   length  \n",
       "0     136  \n",
       "1     140  \n",
       "2     134  \n",
       "3     140  \n",
       "4     140  "
      ]
     },
     "execution_count": 31,
     "metadata": {},
     "output_type": "execute_result"
    }
   ],
   "source": [
    "df.head()"
   ]
  },
  {
   "cell_type": "code",
   "execution_count": 30,
   "metadata": {},
   "outputs": [],
   "source": [
    "df['length'] = df['tweet'].apply(lambda x : len(x))"
   ]
  },
  {
   "cell_type": "code",
   "execution_count": null,
   "metadata": {},
   "outputs": [],
   "source": []
  }
 ],
 "metadata": {
  "kernelspec": {
   "display_name": "dlaas",
   "language": "python",
   "name": "dlaas"
  },
  "language_info": {
   "codemirror_mode": {
    "name": "ipython",
    "version": 3
   },
   "file_extension": ".py",
   "mimetype": "text/x-python",
   "name": "python",
   "nbconvert_exporter": "python",
   "pygments_lexer": "ipython3",
   "version": "3.5.2"
  }
 },
 "nbformat": 4,
 "nbformat_minor": 2
}
