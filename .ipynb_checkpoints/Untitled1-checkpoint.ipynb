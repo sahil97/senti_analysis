{
 "cells": [
  {
   "cell_type": "code",
   "execution_count": 113,
   "metadata": {},
   "outputs": [],
   "source": [
    "import tweepy\n",
    "import csv\n",
    "import pandas as pd\n",
    "import datetime"
   ]
  },
  {
   "cell_type": "code",
   "execution_count": 99,
   "metadata": {},
   "outputs": [],
   "source": []
  },
  {
   "cell_type": "code",
   "execution_count": 100,
   "metadata": {},
   "outputs": [],
   "source": [
    "####input your credentials here\n",
    "consumer_key = 'GWmiD285IA55bQsYqsFj9Yj2Q'\n",
    "consumer_secret = 'GrFOAK3ggwahzjEw5bzTEwfVVMkWmQreo782MBtGC8GYPfUVrp'\n",
    "access_token = '4915730971-FOMoThXCytrM2QTTpfe7v9rK6yrmPJbpKa6kaEj'\n",
    "access_token_secret = 'edniXYK8ec0uFMrcT9VtXsZ1WP1mEuLe5kb4BRsgX8g7v'"
   ]
  },
  {
   "cell_type": "code",
   "execution_count": 108,
   "metadata": {},
   "outputs": [],
   "source": [
    "auth = tweepy.OAuthHandler(consumer_key, consumer_secret)\n",
    "auth.set_access_token(access_token, access_token_secret)\n",
    "api = tweepy.API(auth,wait_on_rate_limit=True)\n",
    "#####United Airlines\n",
    "# Open/Create a file to append data\n",
    "csvFile = open('ua1.csv', 'a')\n",
    "#Use csv Writer\n",
    "csvWriter = csv.writer(csvFile)\n",
    "total_retweets = 0\n",
    "\n",
    "for tweet in tweepy.Cursor(api.search,q=\"#India\",count=100,\n",
    "                           lang=\"en\",\n",
    "                           since=\"2017-04-03\").items():\n",
    "#     print (tweet.created_at, tweet.text)\n",
    "    if tweet.text.startswith(\"RT @\") == True:\n",
    "        print('This tweet is a retweet')\n",
    "        total_retweets += 1\n",
    "    x = tweet\n",
    "    csvWriter.writerow([\n",
    "        tweet.created_at,\n",
    "        tweet.coordinates,\n",
    "        tweet.geo,\n",
    "        tweet.text.encode('utf-8')])"
   ]
  },
  {
   "cell_type": "code",
   "execution_count": 103,
   "metadata": {},
   "outputs": [],
   "source": [
    "df = pd.read_csv('ua1.csv')"
   ]
  },
  {
   "cell_type": "code",
   "execution_count": 109,
   "metadata": {},
   "outputs": [],
   "source": [
    "df.columns = ['created_at', 'coordinates','geo', 'in_reply1','in_reply2', 'in_reply3','in_reply4','in_reply5','retweeted','re_count','text']"
   ]
  },
  {
   "cell_type": "code",
   "execution_count": 272,
   "metadata": {},
   "outputs": [
    {
     "name": "stdout",
     "output_type": "stream",
     "text": [
      "hours: 0minutes: 1\n",
      "686\n",
      "hours: 0minutes: 5\n",
      "138\n",
      "hours: 0minutes: 10\n",
      "69\n",
      "hours: 0minutes: 15\n",
      "47\n",
      "hours: 0minutes: 30\n",
      "23\n",
      "hours: 1minutes: 0\n",
      "12\n",
      "hours: 1minutes: 15\n",
      "10\n",
      "hours: 1minutes: 30\n",
      "8\n"
     ]
    }
   ],
   "source": [
    "time_pairs = [[0,1],[0,5],[0,10],[0,15],[0,30],[1,0],[1,15],[1,30],[1,45],[2,0],[3,0],[4,0]]\n",
    "len_t = 1000\n",
    "i=0\n",
    "\n",
    "if(df['created_at'].dtype != '<M8[ns]'):\n",
    "    df['created_at'] = df['created_at'].apply(lambda x: datetime.datetime.strptime(x, '%Y-%m-%d %H:%M:%S') )\n",
    "while (len_t>=10 and i<len(time_pairs)):\n",
    "    hours, minutes = time_pairs[i]\n",
    "    print('hours: '+str(hours)+'minutes: '+str(minutes))\n",
    "    df['time_comp'] = df['created_at'].apply(lambda x: roundTime(dt=x, hours = hours, minutes = minutes))\n",
    "    len_t = len(df['time_comp'].value_counts())\n",
    "    print(len_t)\n",
    "    i += 1"
   ]
  },
  {
   "cell_type": "code",
   "execution_count": 297,
   "metadata": {},
   "outputs": [],
   "source": [
    "def roundTime(dt=None, hours=0, minutes=1):\n",
    "\n",
    "    dateDelta=datetime.timedelta(hours=hours,minutes=minutes)\n",
    "    \"\"\"Round a datetime object to a multiple of a timedelta\n",
    "    dt : datetime.datetime object, default now.\n",
    "    dateDelta : timedelta object, we round to a multiple of this, default 1 minute.\n",
    "    Author: Thierry Husson 2012 - Use it as you want but don't blame me.\n",
    "            Stijn Nevens 2014 - Changed to use only datetime objects as variables\n",
    "    \"\"\"\n",
    "    roundTo = dateDelta.total_seconds()\n",
    "    if dt == None : \n",
    "        dt = datetime.datetime.now()\n",
    "    dtmin = datetime.datetime(2012,12,31,00,00,00)\n",
    "    seconds = (dt - dtmin).seconds\n",
    "#     // is a floor division, not a comment on following line:\n",
    "    rounding = (seconds+roundTo/2) // roundTo * roundTo\n",
    "    return dt + datetime.timedelta(0,rounding-seconds,-dt.microsecond)"
   ]
  },
  {
   "cell_type": "code",
   "execution_count": 226,
   "metadata": {},
   "outputs": [
    {
     "name": "stdout",
     "output_type": "stream",
     "text": [
      "1677-09-21 00:12:43.145225\n"
     ]
    },
    {
     "data": {
      "text/plain": [
       "Timestamp('2019-07-24 14:05:00')"
      ]
     },
     "execution_count": 226,
     "metadata": {},
     "output_type": "execute_result"
    }
   ],
   "source": [
    "roundTime(df['created_at'][1])"
   ]
  },
  {
   "cell_type": "code",
   "execution_count": 224,
   "metadata": {},
   "outputs": [
    {
     "ename": "NameError",
     "evalue": "name 'dt' is not defined",
     "output_type": "error",
     "traceback": [
      "\u001b[0;31m---------------------------------------------------------------------------\u001b[0m",
      "\u001b[0;31mNameError\u001b[0m                                 Traceback (most recent call last)",
      "\u001b[0;32m<ipython-input-224-1601f7fa3a73>\u001b[0m in \u001b[0;36m<module>\u001b[0;34m\u001b[0m\n\u001b[0;32m----> 1\u001b[0;31m \u001b[0mdt\u001b[0m\u001b[0;34m.\u001b[0m\u001b[0mmin\u001b[0m\u001b[0;34m\u001b[0m\u001b[0m\n\u001b[0m",
      "\u001b[0;31mNameError\u001b[0m: name 'dt' is not defined"
     ]
    }
   ],
   "source": [
    "dt.min"
   ]
  },
  {
   "cell_type": "code",
   "execution_count": 278,
   "metadata": {},
   "outputs": [],
   "source": [
    "df2 = df.iloc[1:3]"
   ]
  },
  {
   "cell_type": "code",
   "execution_count": 280,
   "metadata": {},
   "outputs": [
    {
     "data": {
      "text/html": [
       "<div>\n",
       "<style scoped>\n",
       "    .dataframe tbody tr th:only-of-type {\n",
       "        vertical-align: middle;\n",
       "    }\n",
       "\n",
       "    .dataframe tbody tr th {\n",
       "        vertical-align: top;\n",
       "    }\n",
       "\n",
       "    .dataframe thead th {\n",
       "        text-align: right;\n",
       "    }\n",
       "</style>\n",
       "<table border=\"1\" class=\"dataframe\">\n",
       "  <thead>\n",
       "    <tr style=\"text-align: right;\">\n",
       "      <th></th>\n",
       "      <th>created_at</th>\n",
       "      <th>coordinates</th>\n",
       "      <th>geo</th>\n",
       "      <th>in_reply1</th>\n",
       "      <th>in_reply2</th>\n",
       "      <th>in_reply3</th>\n",
       "      <th>in_reply4</th>\n",
       "      <th>in_reply5</th>\n",
       "      <th>retweeted</th>\n",
       "      <th>re_count</th>\n",
       "      <th>text</th>\n",
       "      <th>time_exp_hour</th>\n",
       "      <th>time_exp_1minute</th>\n",
       "      <th>time_exp_1minute_1</th>\n",
       "      <th>time_comp</th>\n",
       "    </tr>\n",
       "  </thead>\n",
       "  <tbody>\n",
       "    <tr>\n",
       "      <th>1</th>\n",
       "      <td>2019-07-24 14:05:52</td>\n",
       "      <td>NaN</td>\n",
       "      <td>NaN</td>\n",
       "      <td>Kanwal33</td>\n",
       "      <td>1.154030e+18</td>\n",
       "      <td>1.154030e+18</td>\n",
       "      <td>85490946.0</td>\n",
       "      <td>85490946.0</td>\n",
       "      <td>False</td>\n",
       "      <td>0.0</td>\n",
       "      <td>b'2. - #LaborMinistry recommended a raise of I...</td>\n",
       "      <td>2019-07-24 14:05:00</td>\n",
       "      <td>2019-07-24 14:01:00</td>\n",
       "      <td>2019-07-24 14:06:00</td>\n",
       "      <td>2019-07-24 13:30:00</td>\n",
       "    </tr>\n",
       "    <tr>\n",
       "      <th>2</th>\n",
       "      <td>2019-07-24 14:05:52</td>\n",
       "      <td>NaN</td>\n",
       "      <td>NaN</td>\n",
       "      <td>NaN</td>\n",
       "      <td>NaN</td>\n",
       "      <td>NaN</td>\n",
       "      <td>NaN</td>\n",
       "      <td>NaN</td>\n",
       "      <td>False</td>\n",
       "      <td>0.0</td>\n",
       "      <td>b'Western World, the aspiring to be a #Superpo...</td>\n",
       "      <td>2019-07-24 14:05:00</td>\n",
       "      <td>2019-07-24 14:01:00</td>\n",
       "      <td>2019-07-24 14:06:00</td>\n",
       "      <td>2019-07-24 13:30:00</td>\n",
       "    </tr>\n",
       "  </tbody>\n",
       "</table>\n",
       "</div>"
      ],
      "text/plain": [
       "           created_at coordinates  geo in_reply1     in_reply2     in_reply3  \\\n",
       "1 2019-07-24 14:05:52         NaN  NaN  Kanwal33  1.154030e+18  1.154030e+18   \n",
       "2 2019-07-24 14:05:52         NaN  NaN       NaN           NaN           NaN   \n",
       "\n",
       "    in_reply4   in_reply5 retweeted  re_count  \\\n",
       "1  85490946.0  85490946.0     False       0.0   \n",
       "2         NaN         NaN     False       0.0   \n",
       "\n",
       "                                                text       time_exp_hour  \\\n",
       "1  b'2. - #LaborMinistry recommended a raise of I... 2019-07-24 14:05:00   \n",
       "2  b'Western World, the aspiring to be a #Superpo... 2019-07-24 14:05:00   \n",
       "\n",
       "     time_exp_1minute  time_exp_1minute_1           time_comp  \n",
       "1 2019-07-24 14:01:00 2019-07-24 14:06:00 2019-07-24 13:30:00  \n",
       "2 2019-07-24 14:01:00 2019-07-24 14:06:00 2019-07-24 13:30:00  "
      ]
     },
     "execution_count": 280,
     "metadata": {},
     "output_type": "execute_result"
    }
   ],
   "source": [
    "df2.head()"
   ]
  },
  {
   "cell_type": "code",
   "execution_count": 281,
   "metadata": {},
   "outputs": [
    {
     "data": {
      "text/html": [
       "<div>\n",
       "<style scoped>\n",
       "    .dataframe tbody tr th:only-of-type {\n",
       "        vertical-align: middle;\n",
       "    }\n",
       "\n",
       "    .dataframe tbody tr th {\n",
       "        vertical-align: top;\n",
       "    }\n",
       "\n",
       "    .dataframe thead th {\n",
       "        text-align: right;\n",
       "    }\n",
       "</style>\n",
       "<table border=\"1\" class=\"dataframe\">\n",
       "  <thead>\n",
       "    <tr style=\"text-align: right;\">\n",
       "      <th></th>\n",
       "      <th>created_at</th>\n",
       "      <th>coordinates</th>\n",
       "      <th>geo</th>\n",
       "      <th>in_reply1</th>\n",
       "      <th>in_reply2</th>\n",
       "      <th>in_reply3</th>\n",
       "      <th>in_reply4</th>\n",
       "      <th>in_reply5</th>\n",
       "      <th>retweeted</th>\n",
       "      <th>re_count</th>\n",
       "      <th>text</th>\n",
       "      <th>time_exp_hour</th>\n",
       "      <th>time_exp_1minute</th>\n",
       "      <th>time_exp_1minute_1</th>\n",
       "      <th>time_comp</th>\n",
       "    </tr>\n",
       "  </thead>\n",
       "  <tbody>\n",
       "    <tr>\n",
       "      <th>1</th>\n",
       "      <td>2019-07-24 14:05:52</td>\n",
       "      <td>NaN</td>\n",
       "      <td>NaN</td>\n",
       "      <td>Kanwal33</td>\n",
       "      <td>1.154030e+18</td>\n",
       "      <td>1.154030e+18</td>\n",
       "      <td>85490946.0</td>\n",
       "      <td>85490946.0</td>\n",
       "      <td>False</td>\n",
       "      <td>0.0</td>\n",
       "      <td>b'2. - #LaborMinistry recommended a raise of I...</td>\n",
       "      <td>2019-07-24 14:05:00</td>\n",
       "      <td>2019-07-24 14:01:00</td>\n",
       "      <td>2019-07-24 14:06:00</td>\n",
       "      <td>2019-07-24 13:30:00</td>\n",
       "    </tr>\n",
       "    <tr>\n",
       "      <th>2</th>\n",
       "      <td>2019-07-24 14:05:52</td>\n",
       "      <td>NaN</td>\n",
       "      <td>NaN</td>\n",
       "      <td>NaN</td>\n",
       "      <td>NaN</td>\n",
       "      <td>NaN</td>\n",
       "      <td>NaN</td>\n",
       "      <td>NaN</td>\n",
       "      <td>False</td>\n",
       "      <td>0.0</td>\n",
       "      <td>b'Western World, the aspiring to be a #Superpo...</td>\n",
       "      <td>2019-07-24 14:05:00</td>\n",
       "      <td>2019-07-24 14:01:00</td>\n",
       "      <td>2019-07-24 14:06:00</td>\n",
       "      <td>2019-07-24 13:30:00</td>\n",
       "    </tr>\n",
       "    <tr>\n",
       "      <th>4</th>\n",
       "      <td>2019-07-24 14:05:39</td>\n",
       "      <td>NaN</td>\n",
       "      <td>NaN</td>\n",
       "      <td>NaN</td>\n",
       "      <td>NaN</td>\n",
       "      <td>NaN</td>\n",
       "      <td>NaN</td>\n",
       "      <td>NaN</td>\n",
       "      <td>False</td>\n",
       "      <td>24.0</td>\n",
       "      <td>b'RT @SanTosHViratngr: @DrJitendraSingh @PIB_I...</td>\n",
       "      <td>2019-07-24 14:05:00</td>\n",
       "      <td>2019-07-24 14:01:00</td>\n",
       "      <td>2019-07-24 14:06:00</td>\n",
       "      <td>2019-07-24 13:30:00</td>\n",
       "    </tr>\n",
       "  </tbody>\n",
       "</table>\n",
       "</div>"
      ],
      "text/plain": [
       "           created_at coordinates  geo in_reply1     in_reply2     in_reply3  \\\n",
       "1 2019-07-24 14:05:52         NaN  NaN  Kanwal33  1.154030e+18  1.154030e+18   \n",
       "2 2019-07-24 14:05:52         NaN  NaN       NaN           NaN           NaN   \n",
       "4 2019-07-24 14:05:39         NaN  NaN       NaN           NaN           NaN   \n",
       "\n",
       "    in_reply4   in_reply5 retweeted  re_count  \\\n",
       "1  85490946.0  85490946.0     False       0.0   \n",
       "2         NaN         NaN     False       0.0   \n",
       "4         NaN         NaN     False      24.0   \n",
       "\n",
       "                                                text       time_exp_hour  \\\n",
       "1  b'2. - #LaborMinistry recommended a raise of I... 2019-07-24 14:05:00   \n",
       "2  b'Western World, the aspiring to be a #Superpo... 2019-07-24 14:05:00   \n",
       "4  b'RT @SanTosHViratngr: @DrJitendraSingh @PIB_I... 2019-07-24 14:05:00   \n",
       "\n",
       "     time_exp_1minute  time_exp_1minute_1           time_comp  \n",
       "1 2019-07-24 14:01:00 2019-07-24 14:06:00 2019-07-24 13:30:00  \n",
       "2 2019-07-24 14:01:00 2019-07-24 14:06:00 2019-07-24 13:30:00  \n",
       "4 2019-07-24 14:01:00 2019-07-24 14:06:00 2019-07-24 13:30:00  "
      ]
     },
     "execution_count": 281,
     "metadata": {},
     "output_type": "execute_result"
    }
   ],
   "source": [
    "df2.append(df.iloc[4])"
   ]
  },
  {
   "cell_type": "code",
   "execution_count": 284,
   "metadata": {},
   "outputs": [],
   "source": [
    "df3 = pd.DataFrame(columns = ['a','b'])"
   ]
  },
  {
   "cell_type": "code",
   "execution_count": 288,
   "metadata": {},
   "outputs": [
    {
     "ename": "TypeError",
     "evalue": "Can only append a Series if ignore_index=True or if the Series has a name",
     "output_type": "error",
     "traceback": [
      "\u001b[0;31m---------------------------------------------------------------------------\u001b[0m",
      "\u001b[0;31mTypeError\u001b[0m                                 Traceback (most recent call last)",
      "\u001b[0;32m<ipython-input-288-511fa2edd5fb>\u001b[0m in \u001b[0;36m<module>\u001b[0;34m\u001b[0m\n\u001b[1;32m      1\u001b[0m df3.append({\n\u001b[1;32m      2\u001b[0m     \u001b[0;34m\"a\"\u001b[0m\u001b[0;34m:\u001b[0m\u001b[0;34m[\u001b[0m\u001b[0;36m1\u001b[0m\u001b[0;34m]\u001b[0m\u001b[0;34m,\u001b[0m\u001b[0;34m\u001b[0m\u001b[0m\n\u001b[0;32m----> 3\u001b[0;31m     \u001b[0;34m\"b\"\u001b[0m\u001b[0;34m:\u001b[0m\u001b[0;34m[\u001b[0m\u001b[0;36m2\u001b[0m\u001b[0;34m]\u001b[0m\u001b[0;34m\u001b[0m\u001b[0m\n\u001b[0m\u001b[1;32m      4\u001b[0m })\n",
      "\u001b[0;32m~/venv/dlaas/lib/python3.5/site-packages/pandas/core/frame.py\u001b[0m in \u001b[0;36mappend\u001b[0;34m(self, other, ignore_index, verify_integrity, sort)\u001b[0m\n\u001b[1;32m   6656\u001b[0m                 \u001b[0mother\u001b[0m \u001b[0;34m=\u001b[0m \u001b[0mSeries\u001b[0m\u001b[0;34m(\u001b[0m\u001b[0mother\u001b[0m\u001b[0;34m)\u001b[0m\u001b[0;34m\u001b[0m\u001b[0m\n\u001b[1;32m   6657\u001b[0m             \u001b[0;32mif\u001b[0m \u001b[0mother\u001b[0m\u001b[0;34m.\u001b[0m\u001b[0mname\u001b[0m \u001b[0;32mis\u001b[0m \u001b[0;32mNone\u001b[0m \u001b[0;32mand\u001b[0m \u001b[0;32mnot\u001b[0m \u001b[0mignore_index\u001b[0m\u001b[0;34m:\u001b[0m\u001b[0;34m\u001b[0m\u001b[0m\n\u001b[0;32m-> 6658\u001b[0;31m                 raise TypeError('Can only append a Series if ignore_index=True'\n\u001b[0m\u001b[1;32m   6659\u001b[0m                                 ' or if the Series has a name')\n\u001b[1;32m   6660\u001b[0m \u001b[0;34m\u001b[0m\u001b[0m\n",
      "\u001b[0;31mTypeError\u001b[0m: Can only append a Series if ignore_index=True or if the Series has a name"
     ]
    }
   ],
   "source": [
    "df3.append({\n",
    "    \"a\":[1],\n",
    "    \"b\":[2]\n",
    "})"
   ]
  },
  {
   "cell_type": "code",
   "execution_count": 296,
   "metadata": {},
   "outputs": [
    {
     "data": {
      "text/plain": [
       "created_at               0\n",
       "coordinates           6644\n",
       "geo                   6646\n",
       "in_reply1             6145\n",
       "in_reply2             6441\n",
       "in_reply3             6441\n",
       "in_reply4             6373\n",
       "in_reply5             6373\n",
       "retweeted              230\n",
       "re_count               230\n",
       "text                   230\n",
       "time_exp_hour            0\n",
       "time_exp_1minute         0\n",
       "time_exp_1minute_1       0\n",
       "time_comp                0\n",
       "dtype: int64"
      ]
     },
     "execution_count": 296,
     "metadata": {},
     "output_type": "execute_result"
    }
   ],
   "source": [
    "df.isna().sum()"
   ]
  },
  {
   "cell_type": "code",
   "execution_count": null,
   "metadata": {},
   "outputs": [],
   "source": []
  }
 ],
 "metadata": {
  "kernelspec": {
   "display_name": "dlaas",
   "language": "python",
   "name": "dlaas"
  },
  "language_info": {
   "codemirror_mode": {
    "name": "ipython",
    "version": 3
   },
   "file_extension": ".py",
   "mimetype": "text/x-python",
   "name": "python",
   "nbconvert_exporter": "python",
   "pygments_lexer": "ipython3",
   "version": "3.5.2"
  }
 },
 "nbformat": 4,
 "nbformat_minor": 2
}
